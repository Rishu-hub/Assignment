{
 "cells": [
  {
   "cell_type": "code",
   "execution_count": null,
   "id": "e02fe4a2-0004-4433-b5a2-16a84dd1335b",
   "metadata": {},
   "outputs": [],
   "source": [
    "Q1. Explain with an example each when to use a for loop and a while loop."
   ]
  },
  {
   "cell_type": "code",
   "execution_count": null,
   "id": "46cf6b30-cfb6-44fb-a47a-3adda0310a00",
   "metadata": {},
   "outputs": [],
   "source": []
  },
  {
   "cell_type": "code",
   "execution_count": 4,
   "id": "64e86199-ef2f-4789-856e-a225d777351b",
   "metadata": {},
   "outputs": [
    {
     "name": "stdout",
     "output_type": "stream",
     "text": [
      "1\n",
      "2\n",
      "3\n",
      "4\n",
      "5\n",
      "6\n",
      "7\n",
      "8\n",
      "9\n"
     ]
    }
   ],
   "source": [
    "for i in range(1,10):\n",
    "    print(i)"
   ]
  },
  {
   "cell_type": "code",
   "execution_count": 14,
   "id": "124b52d2-3424-4bda-ab95-5a94b70f3d29",
   "metadata": {},
   "outputs": [
    {
     "name": "stdout",
     "output_type": "stream",
     "text": [
      "0\n",
      "1\n",
      "2\n",
      "3\n",
      "4\n",
      "5\n",
      "6\n",
      "7\n",
      "8\n",
      "9\n"
     ]
    }
   ],
   "source": [
    "i =0\n",
    "while(i<10):\n",
    "    print(i)\n",
    "    i =i+1"
   ]
  },
  {
   "cell_type": "code",
   "execution_count": null,
   "id": "992fdd5b-44eb-436a-b4b5-23f11bf6e5ea",
   "metadata": {},
   "outputs": [],
   "source": [
    "Q2. Write a python program to print the sum and product of the first 10 natural numbers using for and while loop."
   ]
  },
  {
   "cell_type": "code",
   "execution_count": 1,
   "id": "7e233a83-3c59-4b34-b7fb-bce93047e0d8",
   "metadata": {},
   "outputs": [
    {
     "name": "stdout",
     "output_type": "stream",
     "text": [
      "sum of 10 nos are: 55\n",
      "product of 10 nos are: 3628800\n"
     ]
    }
   ],
   "source": [
    "sum=0\n",
    "product =1\n",
    "for i in range(1,11):\n",
    "    sum = sum+i\n",
    "    product = product*i\n",
    "\n",
    "print(\"sum of 10 nos are:\",sum)\n",
    "print(\"product of 10 nos are:\",product)"
   ]
  },
  {
   "cell_type": "code",
   "execution_count": 2,
   "id": "5c76f9ef-ecbc-4f47-b351-52286cdaa075",
   "metadata": {},
   "outputs": [
    {
     "name": "stdout",
     "output_type": "stream",
     "text": [
      "sum of 10 nos are: 55\n",
      "product of 10 nos are: 3628800\n"
     ]
    }
   ],
   "source": [
    "#while loop\n",
    "sum=0\n",
    "products =1\n",
    "i=1\n",
    "while (i<11):\n",
    "    sum = sum+i\n",
    "    products = products*i\n",
    "    i +=1\n",
    "print(\"sum of 10 nos are:\",sum)\n",
    "print(\"product of 10 nos are:\",products)"
   ]
  },
  {
   "cell_type": "code",
   "execution_count": null,
   "id": "fec6116e-8eb9-42ed-9fc3-89f2707a91de",
   "metadata": {},
   "outputs": [],
   "source": [
    "Q3. Create a python program to compute the electricity bill for a household.\n",
    "\n"
   ]
  },
  {
   "cell_type": "code",
   "execution_count": 3,
   "id": "9cc8a954-edd1-43c3-9559-7aa235d33a6d",
   "metadata": {},
   "outputs": [
    {
     "name": "stdin",
     "output_type": "stream",
     "text": [
      "Enter Units:  12\n"
     ]
    },
    {
     "name": "stdout",
     "output_type": "stream",
     "text": [
      "Total Electricity Bill Rs.54.0\n"
     ]
    }
   ],
   "source": [
    "units = int(input('Enter Units: '))\n",
    "bill = 0\n",
    "if units <= 100:\n",
    "    bill += 4.5*units\n",
    "    units -= 100\n",
    "elif units > 100 and units <= 200:\n",
    "    bill += 450\n",
    "    units -= 100\n",
    "    bill += 6*units\n",
    "elif units > 200 and units <= 300:\n",
    "    bill += 450+600\n",
    "    units -= 200\n",
    "    bill += 10*units\n",
    "elif units > 300:\n",
    "    bill += 450+600+1000\n",
    "    units -= 300\n",
    "    bill += 20*units\n",
    "print(f'Total Electricity Bill Rs.{bill}')"
   ]
  },
  {
   "cell_type": "code",
   "execution_count": null,
   "id": "cd0cc5bb-9517-493d-90ba-ac73631b94a9",
   "metadata": {},
   "outputs": [],
   "source": [
    "Q4. Create a list of numbers from 1 to 100. Use for loop and while loop to calculate the cube of each\n",
    "number and if the cube of that number is divisible by 4 or 5 then append that number in a list and print\n",
    "that list.\n",
    "The per-unit charges in rupees are as follows: For the first 100 units, the user will be charged Rs. 4.5 per\n",
    "unit, for the next 100 units, the user will be charged Rs. 6 per unit, and for the next 100 units, the user will\n",
    "be charged Rs. 10 per unit, After 300 units and above the user will be charged Rs. 20 per unit.\n",
    "You are required to take the units of electricity consumed in a month from the user as input.\n",
    "Your program must pass this test case: when the unit of electricity consumed by the user in a month is\n",
    "310, the total electricity bill should be 2250.\n",
    "\n"
   ]
  },
  {
   "cell_type": "code",
   "execution_count": null,
   "id": "808e995a-9e00-444a-a49b-d134d1bde4d6",
   "metadata": {},
   "outputs": [],
   "source": []
  },
  {
   "cell_type": "code",
   "execution_count": null,
   "id": "6d67b0d6-e026-44ff-820c-699a53b1eeaf",
   "metadata": {},
   "outputs": [],
   "source": [
    "Q5. Write a program to filter count vowels in the below-given string.\n",
    "string = \"I want to become a data scientist\""
   ]
  },
  {
   "cell_type": "code",
   "execution_count": null,
   "id": "b4800502-9eb6-48b7-8d42-e6472153e268",
   "metadata": {},
   "outputs": [],
   "source": []
  }
 ],
 "metadata": {
  "kernelspec": {
   "display_name": "Python 3 (ipykernel)",
   "language": "python",
   "name": "python3"
  },
  "language_info": {
   "codemirror_mode": {
    "name": "ipython",
    "version": 3
   },
   "file_extension": ".py",
   "mimetype": "text/x-python",
   "name": "python",
   "nbconvert_exporter": "python",
   "pygments_lexer": "ipython3",
   "version": "3.10.8"
  }
 },
 "nbformat": 4,
 "nbformat_minor": 5
}
