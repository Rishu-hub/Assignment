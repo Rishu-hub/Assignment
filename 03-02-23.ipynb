{
 "cells": [
  {
   "cell_type": "code",
   "execution_count": null,
   "id": "292f6aa1-e3d1-49ce-a5a1-569221c3a785",
   "metadata": {},
   "outputs": [],
   "source": [
    "Q1. Which keyword is used to create a function? Create a function to return a list of odd numbers in the\n",
    "range of 1 to 25."
   ]
  },
  {
   "cell_type": "code",
   "execution_count": null,
   "id": "d17a697e-b9b1-4aba-b559-267e6122779d",
   "metadata": {},
   "outputs": [],
   "source": [
    "def function_name():"
   ]
  },
  {
   "cell_type": "code",
   "execution_count": 16,
   "id": "d9e1f3f4-dd31-4bce-8627-d09e0c8e12d4",
   "metadata": {},
   "outputs": [
    {
     "data": {
      "text/plain": [
       "[1, 3, 5, 7, 9, 11, 13, 15, 17, 19, 21, 23, 25]"
      ]
     },
     "execution_count": 16,
     "metadata": {},
     "output_type": "execute_result"
    }
   ],
   "source": [
    "def odd():\n",
    "    l=[]\n",
    "    for i in range(1,26):\n",
    "        if i %2 != 0:\n",
    "            l.append(i)\n",
    "    return l\n",
    "odd()"
   ]
  },
  {
   "cell_type": "code",
   "execution_count": null,
   "id": "b45d67c0-71f5-4a85-ab38-8c9665a56fca",
   "metadata": {},
   "outputs": [],
   "source": [
    "Q2. Why *args and **kwargs is used in some functions? Create a function each for *args and **kwargs\n",
    "to demonstrate their use."
   ]
  },
  {
   "cell_type": "code",
   "execution_count": null,
   "id": "1cb982c6-c855-4d01-9df8-67713cb0f7f0",
   "metadata": {},
   "outputs": [],
   "source": [
    "*args is used to send a non-keyworded variable length argument list to the function.\n",
    "It allows you to pass a variable number of arguments to a function, which will be received as a tuple. \n",
    "**kwargs is used to pass keyworded variable length of arguments to a function, which will be received as a dictionary."
   ]
  },
  {
   "cell_type": "code",
   "execution_count": 22,
   "id": "6ec145ed-6da9-4c66-a601-7e812c86b5ad",
   "metadata": {},
   "outputs": [],
   "source": [
    "def args(*args):\n",
    "    print(\"argument pass by args\" ,args)"
   ]
  },
  {
   "cell_type": "raw",
   "id": "26757960-229a-41af-8f7c-7beeb2f61cd1",
   "metadata": {},
   "source": []
  },
  {
   "cell_type": "code",
   "execution_count": 23,
   "id": "100dbd71-da36-4d6c-9a0b-d0b1fcb9d6cf",
   "metadata": {},
   "outputs": [],
   "source": [
    "def kwargs(**kwargs):\n",
    "    print(\"argument pass by Kwargs\", kwargs)"
   ]
  },
  {
   "cell_type": "code",
   "execution_count": null,
   "id": "e287c56a-7e98-4535-b90b-48f546bb99b9",
   "metadata": {},
   "outputs": [],
   "source": []
  },
  {
   "cell_type": "code",
   "execution_count": null,
   "id": "687f661e-9c97-4e80-92be-c18f0e359c73",
   "metadata": {},
   "outputs": [],
   "source": [
    "Q3. What is an iterator in python? Name the method used to initialise the iterator object and the method\n",
    "used for iteration. Use these methods to print the first five elements of the given list [2, 4, 6, 8, 10, 12, 14,\n",
    "16, 18, 20]."
   ]
  },
  {
   "cell_type": "code",
   "execution_count": null,
   "id": "36ab07a1-d6ef-4c4d-afa2-945fb64e85be",
   "metadata": {},
   "outputs": [],
   "source": [
    "An iterator in Python is an object that implements the iterator protocol, which consists of two methods: iter() and next(). \n",
    "The iter() method is used to initialize the iterator object, and the next() method is used for iteration."
   ]
  },
  {
   "cell_type": "code",
   "execution_count": 4,
   "id": "0d8bd6c8-58c4-41a0-9263-9fe4fc8b4cff",
   "metadata": {},
   "outputs": [
    {
     "name": "stdout",
     "output_type": "stream",
     "text": [
      "The first 5 numbers:\n",
      "2\n",
      "4\n",
      "6\n",
      "8\n",
      "10\n"
     ]
    }
   ],
   "source": [
    "numbers = [2, 4, 6, 8, 10, 12, 14, 16, 18, 20]\n",
    "\n",
    "class TopNumbers:\n",
    "    def __init__(self, limit):\n",
    "        self.limit = limit\n",
    "        self.counter = 0\n",
    "\n",
    "    def __iter__(self):\n",
    "        return self\n",
    "\n",
    "    def __next__(self):\n",
    "        if self.counter < self.limit:\n",
    "            number = numbers[self.counter]\n",
    "            self.counter += 1\n",
    "            return number\n",
    "        else:\n",
    "            raise StopIteration\n",
    "\n",
    "print(\"The first 5 numbers:\")\n",
    "for number in TopNumbers(5):\n",
    "    print(number)"
   ]
  },
  {
   "cell_type": "code",
   "execution_count": null,
   "id": "122796d2-3df8-4257-a571-9eefcfc33f4d",
   "metadata": {},
   "outputs": [],
   "source": [
    "Q4. What is a generator function in python? Why yield keyword is used? Give an example of a generator\n",
    "function."
   ]
  },
  {
   "cell_type": "code",
   "execution_count": null,
   "id": "57c7c086-f8da-4c72-8559-15343904b6ae",
   "metadata": {},
   "outputs": [],
   "source": [
    "A generator function in Python is a function that returns a generator iterator. \n",
    "The yield keyword is used to return a value from a generator function and pause the function's\n",
    "execution. When the generator function is called again, it resumes execution from \n",
    "where it left off, using the saved state from the last call to yield."
   ]
  },
  {
   "cell_type": "code",
   "execution_count": 5,
   "id": "ac69b6b3-430c-41d5-b245-c395d4eb4de2",
   "metadata": {},
   "outputs": [
    {
     "name": "stdout",
     "output_type": "stream",
     "text": [
      "Fibonacci sequence:\n",
      "0\n",
      "1\n",
      "1\n",
      "2\n",
      "3\n",
      "5\n",
      "8\n",
      "13\n"
     ]
    }
   ],
   "source": [
    "def fibonacci_sequence(limit):\n",
    "    a, b = 0, 1\n",
    "    while a < limit:\n",
    "        yield a\n",
    "        a, b = b, a + b\n",
    "\n",
    "fib = fibonacci_sequence(20)\n",
    "\n",
    "print(\"Fibonacci sequence:\")\n",
    "for number in fib:\n",
    "    print(number)   "
   ]
  },
  {
   "cell_type": "code",
   "execution_count": null,
   "id": "ac1f7fd5-e415-4e26-ac4f-9d621fb53dd7",
   "metadata": {},
   "outputs": [],
   "source": [
    "Q5. Create a generator function for prime numbers less than 1000. Use the next() method to print the\n",
    "first 20 prime numbers."
   ]
  },
  {
   "cell_type": "code",
   "execution_count": null,
   "id": "147899d3-08dc-4ad6-835d-bfe7c2292d79",
   "metadata": {},
   "outputs": [],
   "source": []
  }
 ],
 "metadata": {
  "kernelspec": {
   "display_name": "Python 3 (ipykernel)",
   "language": "python",
   "name": "python3"
  },
  "language_info": {
   "codemirror_mode": {
    "name": "ipython",
    "version": 3
   },
   "file_extension": ".py",
   "mimetype": "text/x-python",
   "name": "python",
   "nbconvert_exporter": "python",
   "pygments_lexer": "ipython3",
   "version": "3.10.8"
  }
 },
 "nbformat": 4,
 "nbformat_minor": 5
}
