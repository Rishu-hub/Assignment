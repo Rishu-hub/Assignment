{
 "cells": [
  {
   "cell_type": "code",
   "execution_count": 15,
   "id": "510a40d4-9321-4afa-95fa-76b7514c5a3b",
   "metadata": {},
   "outputs": [
    {
     "name": "stdin",
     "output_type": "stream",
     "text": [
      "Enter the Marks: 56\n"
     ]
    },
    {
     "name": "stdout",
     "output_type": "stream",
     "text": [
      "Grade D\n"
     ]
    }
   ],
   "source": [
    "#WAP to accept percentqage from user and display grade\n",
    "Marks = int(input(\"Enter the Marks:\"))\n",
    "if(Marks>90):\n",
    "    print(\"Grade A\")\n",
    "elif(Marks>80 and Marks<=90):\n",
    "    print(\"Grade B\")\n",
    "elif(Marks>60 and Marks<=80):\n",
    "    print(\"Grade c\")\n",
    "else:\n",
    "    print(\"Grade D\")\n"
   ]
  },
  {
   "cell_type": "code",
   "execution_count": 20,
   "id": "81f1aa7f-9573-4b73-9edc-5ecbc76e9539",
   "metadata": {},
   "outputs": [
    {
     "name": "stdin",
     "output_type": "stream",
     "text": [
      "Enter the price of Bike: 5000000\n"
     ]
    },
    {
     "name": "stdout",
     "output_type": "stream",
     "text": [
      "Tax of bike is 15%\n"
     ]
    }
   ],
   "source": [
    "#WAP to accept the cost price of a bike and display the road tax\n",
    "Cost = int(input(\"Enter the price of Bike:\"))\n",
    "if(Cost>100000):\n",
    "    print(\"Tax of bike is 15%\")\n",
    "elif(Cost>50000 and Cost<=100000):\n",
    "    print(\"Tax of bike is 10%\")\n",
    "else:\n",
    "    print(\"Tax of bike is 5%\")"
   ]
  },
  {
   "cell_type": "code",
   "execution_count": 31,
   "id": "661e8bea-59cd-4672-8b75-60bad2a750c4",
   "metadata": {},
   "outputs": [
    {
     "name": "stdin",
     "output_type": "stream",
     "text": [
      "Enter city: JAIPUR\n"
     ]
    },
    {
     "name": "stdout",
     "output_type": "stream",
     "text": [
      "Jal Mahal\n"
     ]
    }
   ],
   "source": [
    "# WAP Accept any city from user an d display monments of that city\n",
    "City = input(\"Enter city:\")\n",
    "if City.upper() == \"DELHI\":\n",
    "    print(\"Red Fort\")\n",
    "if City.upper() == \"AGRA\":\n",
    "    print(\"Taj Mahal\")\n",
    "if City.upper() == \"JAIPUR\":\n",
    "    print(\"Jal Mahal\")"
   ]
  },
  {
   "cell_type": "code",
   "execution_count": 46,
   "id": "aaf29e45-18dc-4d01-8fa8-643eb8f7540e",
   "metadata": {},
   "outputs": [],
   "source": [
    "#WAP how many time a given number can be divided by 3 before it is less than or equal to 10\n",
    "#Dont understand"
   ]
  },
  {
   "cell_type": "code",
   "execution_count": null,
   "id": "215525de-0f8d-4e06-9d80-52f477a03d44",
   "metadata": {},
   "outputs": [],
   "source": [
    "#Reverse while loop to display number from 10 to 1\n",
    "i = 10\n",
    "while i > 0:\n",
    "    i = i - 1\n",
    "print(i)"
   ]
  },
  {
   "cell_type": "code",
   "execution_count": null,
   "id": "af1ab225-54bd-4f0a-a191-8741ba12d989",
   "metadata": {},
   "outputs": [],
   "source": [
    "#3 patten\n",
    "# Pattern 1:\n",
    "i = 1\n",
    "while i <= 5:\n",
    "    j = 1\n",
    "    while j <= i:\n",
    "        print(\"*\", end=\"\")\n",
    "        j += 1\n",
    "    print(\"\")\n",
    "    i += 1\n",
    "    \n",
    "print(\"-----\")\n",
    "# Pattern 2:\n",
    "i = 5\n",
    "while i >= 1:\n",
    "    j = i\n",
    "    while j >= 1:\n",
    "        print(\"*\", end=\"\")\n",
    "        j -= 1\n",
    "    print(\"\")\n",
    "    i -= 1\n",
    "\n",
    "print(\"-----\")\n",
    "# Pattern 3:\n",
    "i = 5\n",
    "while i >= 1:\n",
    "    j = 1\n",
    "    while j <= 5:\n",
    "        if j >= i:\n",
    "            print(\"*\", end=\"\")\n",
    "        else:\n",
    "            print(\" \", end=\"\")\n",
    "        j += 1\n",
    "    print(\"\")\n",
    "    i -= 1"
   ]
  }
 ],
 "metadata": {
  "kernelspec": {
   "display_name": "Python 3 (ipykernel)",
   "language": "python",
   "name": "python3"
  },
  "language_info": {
   "codemirror_mode": {
    "name": "ipython",
    "version": 3
   },
   "file_extension": ".py",
   "mimetype": "text/x-python",
   "name": "python",
   "nbconvert_exporter": "python",
   "pygments_lexer": "ipython3",
   "version": "3.10.8"
  }
 },
 "nbformat": 4,
 "nbformat_minor": 5
}
