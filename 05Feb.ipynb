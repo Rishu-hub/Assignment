{
 "cells": [
  {
   "cell_type": "code",
   "execution_count": 5,
   "id": "a5c94639-842e-4c7a-8b4f-a19a2388a1c5",
   "metadata": {},
   "outputs": [],
   "source": [
    "## Explain Class and Object with respect to Object-Oriented Programming. Give a suitable example."
   ]
  },
  {
   "cell_type": "raw",
   "id": "481099c3-ea8e-464e-9b5e-2216881ef72e",
   "metadata": {},
   "source": [
    "as we know that python is an object oriented programming language.Almost everything in Python is an object, with its properties and methods.\n",
    "a class is a blueprint for creating objects for example suppose a car is class which has a color , engine Number , model number, year when it make\n",
    "a car is class and color, engine Number, model number is attributes and its also have star engine stop engine and honk it is a methods.\n",
    "class Syntax:\n",
    "                 class className:\n",
    "                     #statement\n",
    "\n",
    "An Object is an instance of a Class .It represents a specific entity or item that has its own unique state and behavior. \n",
    "for example in my college i have Btech bach which is class and there are many student with diffrent behavior and this student is called object.\n",
    "\n",
    "object Syntx:\n",
    "                    obj = MyClass()\n",
    "                    print(obj.x)"
   ]
  },
  {
   "cell_type": "code",
   "execution_count": 7,
   "id": "087ac9a3-8c12-4426-bde0-02d2bc394674",
   "metadata": {},
   "outputs": [],
   "source": [
    "# Name the four pillars of OOPs."
   ]
  },
  {
   "cell_type": "raw",
   "id": "b1cd702c-fd81-4f40-b1b1-33697b84fba9",
   "metadata": {},
   "source": [
    "Abstraction\n",
    "\n",
    "Encapsulation\n",
    "\n",
    "Inheritance\n",
    "\n",
    "Polymorphism"
   ]
  },
  {
   "cell_type": "code",
   "execution_count": null,
   "id": "d75a409e-5572-4636-99a9-b37f5903b311",
   "metadata": {},
   "outputs": [],
   "source": [
    "# Explain why the __init__() function is used. Give a suitable example.\n"
   ]
  },
  {
   "cell_type": "raw",
   "id": "6afac3ef-3eb4-4e85-beaa-8dcad78e3be4",
   "metadata": {},
   "source": [
    "The __init__() function, or constructor, is used in Python classes to initialize the attributes of an object when it is created . Suppose we have a Person class that represents individuals. Each person has attributes like name, age, and occupation\n",
    "\n",
    "class Person:\n",
    "    def __init__(self, name, age, occupation):\n",
    "        self.name = name\n",
    "        self.age = age\n",
    "        self.occupation = occupation\n",
    "    \n",
    "    def introduce(self):\n",
    "        print(f\"Hi, my name is {self.name}. I'm {self.age} years old and I work as a {self.occupation}.\")"
   ]
  },
  {
   "cell_type": "code",
   "execution_count": null,
   "id": "506d6684-d14f-4e6c-9470-eb4ce9e27b65",
   "metadata": {},
   "outputs": [],
   "source": [
    "# Why self is used in OOPs?"
   ]
  },
  {
   "cell_type": "raw",
   "id": "cceade51-4819-47b4-86d3-86e5425a48ba",
   "metadata": {},
   "source": [
    "self parameter is used to refer to the instance of a class within its own methods. It acts as a reference to the current object or instance being operated on."
   ]
  },
  {
   "cell_type": "code",
   "execution_count": null,
   "id": "dd50db4c-b7fc-48c2-b71b-b72cbd27a2f3",
   "metadata": {},
   "outputs": [],
   "source": [
    "# What is inheritance? Give an example for each type of inheritance."
   ]
  },
  {
   "cell_type": "raw",
   "id": "4806b78c-5371-42ef-8e4a-fdadbc237f21",
   "metadata": {},
   "source": [
    "inheritance allows a class to inherit properties and behaviors from another class.\n",
    "there are 3 type of inheritance\n",
    "1. Single Inheritance:\n",
    "2. Multiple Inheritance:\n",
    "3. Multilevel Inheritance:\n"
   ]
  },
  {
   "cell_type": "code",
   "execution_count": null,
   "id": "8207b6f8-1a69-43e9-a837-77803e9ed3e8",
   "metadata": {},
   "outputs": [],
   "source": []
  }
 ],
 "metadata": {
  "kernelspec": {
   "display_name": "Python 3 (ipykernel)",
   "language": "python",
   "name": "python3"
  },
  "language_info": {
   "codemirror_mode": {
    "name": "ipython",
    "version": 3
   },
   "file_extension": ".py",
   "mimetype": "text/x-python",
   "name": "python",
   "nbconvert_exporter": "python",
   "pygments_lexer": "ipython3",
   "version": "3.10.8"
  }
 },
 "nbformat": 4,
 "nbformat_minor": 5
}
